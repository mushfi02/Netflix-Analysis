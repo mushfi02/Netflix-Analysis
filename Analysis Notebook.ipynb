{
 "cells": [
  {
   "cell_type": "markdown",
   "id": "9dee7654",
   "metadata": {},
   "source": [
    "### Loading Data & Libraries"
   ]
  },
  {
   "cell_type": "code",
   "execution_count": 1,
   "id": "dfaa7319",
   "metadata": {},
   "outputs": [],
   "source": [
    "import pandas as pd\n",
    "import numpy as np\n",
    "import matplotlib.pyplot as plt\n",
    "import seaborn as sns"
   ]
  },
  {
   "cell_type": "code",
   "execution_count": 2,
   "id": "21808834",
   "metadata": {},
   "outputs": [],
   "source": [
    "data = pd.read_csv(\"data.csv\")"
   ]
  },
  {
   "cell_type": "markdown",
   "id": "a3149d9c",
   "metadata": {},
   "source": [
    "### Show Data"
   ]
  },
  {
   "cell_type": "code",
   "execution_count": 3,
   "id": "97ab8552",
   "metadata": {},
   "outputs": [
    {
     "data": {
      "text/html": [
       "<div>\n",
       "<style scoped>\n",
       "    .dataframe tbody tr th:only-of-type {\n",
       "        vertical-align: middle;\n",
       "    }\n",
       "\n",
       "    .dataframe tbody tr th {\n",
       "        vertical-align: top;\n",
       "    }\n",
       "\n",
       "    .dataframe thead th {\n",
       "        text-align: right;\n",
       "    }\n",
       "</style>\n",
       "<table border=\"1\" class=\"dataframe\">\n",
       "  <thead>\n",
       "    <tr style=\"text-align: right;\">\n",
       "      <th></th>\n",
       "      <th>show_id</th>\n",
       "      <th>type</th>\n",
       "      <th>title</th>\n",
       "      <th>director</th>\n",
       "      <th>cast</th>\n",
       "      <th>country</th>\n",
       "      <th>date_added</th>\n",
       "      <th>release_year</th>\n",
       "      <th>rating</th>\n",
       "      <th>duration</th>\n",
       "      <th>listed_in</th>\n",
       "      <th>description</th>\n",
       "    </tr>\n",
       "  </thead>\n",
       "  <tbody>\n",
       "    <tr>\n",
       "      <th>0</th>\n",
       "      <td>s1</td>\n",
       "      <td>Movie</td>\n",
       "      <td>Dick Johnson Is Dead</td>\n",
       "      <td>Kirsten Johnson</td>\n",
       "      <td>NaN</td>\n",
       "      <td>United States</td>\n",
       "      <td>September 25, 2021</td>\n",
       "      <td>2020</td>\n",
       "      <td>PG-13</td>\n",
       "      <td>90 min</td>\n",
       "      <td>Documentaries</td>\n",
       "      <td>As her father nears the end of his life, filmm...</td>\n",
       "    </tr>\n",
       "    <tr>\n",
       "      <th>1</th>\n",
       "      <td>s2</td>\n",
       "      <td>TV Show</td>\n",
       "      <td>Blood &amp; Water</td>\n",
       "      <td>NaN</td>\n",
       "      <td>Ama Qamata, Khosi Ngema, Gail Mabalane, Thaban...</td>\n",
       "      <td>South Africa</td>\n",
       "      <td>September 24, 2021</td>\n",
       "      <td>2021</td>\n",
       "      <td>TV-MA</td>\n",
       "      <td>2 Seasons</td>\n",
       "      <td>International TV Shows, TV Dramas, TV Mysteries</td>\n",
       "      <td>After crossing paths at a party, a Cape Town t...</td>\n",
       "    </tr>\n",
       "    <tr>\n",
       "      <th>2</th>\n",
       "      <td>s3</td>\n",
       "      <td>TV Show</td>\n",
       "      <td>Ganglands</td>\n",
       "      <td>Julien Leclercq</td>\n",
       "      <td>Sami Bouajila, Tracy Gotoas, Samuel Jouy, Nabi...</td>\n",
       "      <td>NaN</td>\n",
       "      <td>September 24, 2021</td>\n",
       "      <td>2021</td>\n",
       "      <td>TV-MA</td>\n",
       "      <td>1 Season</td>\n",
       "      <td>Crime TV Shows, International TV Shows, TV Act...</td>\n",
       "      <td>To protect his family from a powerful drug lor...</td>\n",
       "    </tr>\n",
       "    <tr>\n",
       "      <th>3</th>\n",
       "      <td>s4</td>\n",
       "      <td>TV Show</td>\n",
       "      <td>Jailbirds New Orleans</td>\n",
       "      <td>NaN</td>\n",
       "      <td>NaN</td>\n",
       "      <td>NaN</td>\n",
       "      <td>September 24, 2021</td>\n",
       "      <td>2021</td>\n",
       "      <td>TV-MA</td>\n",
       "      <td>1 Season</td>\n",
       "      <td>Docuseries, Reality TV</td>\n",
       "      <td>Feuds, flirtations and toilet talk go down amo...</td>\n",
       "    </tr>\n",
       "    <tr>\n",
       "      <th>4</th>\n",
       "      <td>s5</td>\n",
       "      <td>TV Show</td>\n",
       "      <td>Kota Factory</td>\n",
       "      <td>NaN</td>\n",
       "      <td>Mayur More, Jitendra Kumar, Ranjan Raj, Alam K...</td>\n",
       "      <td>India</td>\n",
       "      <td>September 24, 2021</td>\n",
       "      <td>2021</td>\n",
       "      <td>TV-MA</td>\n",
       "      <td>2 Seasons</td>\n",
       "      <td>International TV Shows, Romantic TV Shows, TV ...</td>\n",
       "      <td>In a city of coaching centers known to train I...</td>\n",
       "    </tr>\n",
       "  </tbody>\n",
       "</table>\n",
       "</div>"
      ],
      "text/plain": [
       "  show_id     type                  title         director  \\\n",
       "0      s1    Movie   Dick Johnson Is Dead  Kirsten Johnson   \n",
       "1      s2  TV Show          Blood & Water              NaN   \n",
       "2      s3  TV Show              Ganglands  Julien Leclercq   \n",
       "3      s4  TV Show  Jailbirds New Orleans              NaN   \n",
       "4      s5  TV Show           Kota Factory              NaN   \n",
       "\n",
       "                                                cast        country  \\\n",
       "0                                                NaN  United States   \n",
       "1  Ama Qamata, Khosi Ngema, Gail Mabalane, Thaban...   South Africa   \n",
       "2  Sami Bouajila, Tracy Gotoas, Samuel Jouy, Nabi...            NaN   \n",
       "3                                                NaN            NaN   \n",
       "4  Mayur More, Jitendra Kumar, Ranjan Raj, Alam K...          India   \n",
       "\n",
       "           date_added  release_year rating   duration  \\\n",
       "0  September 25, 2021          2020  PG-13     90 min   \n",
       "1  September 24, 2021          2021  TV-MA  2 Seasons   \n",
       "2  September 24, 2021          2021  TV-MA   1 Season   \n",
       "3  September 24, 2021          2021  TV-MA   1 Season   \n",
       "4  September 24, 2021          2021  TV-MA  2 Seasons   \n",
       "\n",
       "                                           listed_in  \\\n",
       "0                                      Documentaries   \n",
       "1    International TV Shows, TV Dramas, TV Mysteries   \n",
       "2  Crime TV Shows, International TV Shows, TV Act...   \n",
       "3                             Docuseries, Reality TV   \n",
       "4  International TV Shows, Romantic TV Shows, TV ...   \n",
       "\n",
       "                                         description  \n",
       "0  As her father nears the end of his life, filmm...  \n",
       "1  After crossing paths at a party, a Cape Town t...  \n",
       "2  To protect his family from a powerful drug lor...  \n",
       "3  Feuds, flirtations and toilet talk go down amo...  \n",
       "4  In a city of coaching centers known to train I...  "
      ]
     },
     "execution_count": 3,
     "metadata": {},
     "output_type": "execute_result"
    }
   ],
   "source": [
    "data.head()"
   ]
  },
  {
   "cell_type": "code",
   "execution_count": 4,
   "id": "6a585e9d",
   "metadata": {},
   "outputs": [
    {
     "data": {
      "text/html": [
       "<div>\n",
       "<style scoped>\n",
       "    .dataframe tbody tr th:only-of-type {\n",
       "        vertical-align: middle;\n",
       "    }\n",
       "\n",
       "    .dataframe tbody tr th {\n",
       "        vertical-align: top;\n",
       "    }\n",
       "\n",
       "    .dataframe thead th {\n",
       "        text-align: right;\n",
       "    }\n",
       "</style>\n",
       "<table border=\"1\" class=\"dataframe\">\n",
       "  <thead>\n",
       "    <tr style=\"text-align: right;\">\n",
       "      <th></th>\n",
       "      <th>show_id</th>\n",
       "      <th>type</th>\n",
       "      <th>title</th>\n",
       "      <th>director</th>\n",
       "      <th>cast</th>\n",
       "      <th>country</th>\n",
       "      <th>date_added</th>\n",
       "      <th>release_year</th>\n",
       "      <th>rating</th>\n",
       "      <th>duration</th>\n",
       "      <th>listed_in</th>\n",
       "      <th>description</th>\n",
       "    </tr>\n",
       "  </thead>\n",
       "  <tbody>\n",
       "    <tr>\n",
       "      <th>8802</th>\n",
       "      <td>s8803</td>\n",
       "      <td>Movie</td>\n",
       "      <td>Zodiac</td>\n",
       "      <td>David Fincher</td>\n",
       "      <td>Mark Ruffalo, Jake Gyllenhaal, Robert Downey J...</td>\n",
       "      <td>United States</td>\n",
       "      <td>November 20, 2019</td>\n",
       "      <td>2007</td>\n",
       "      <td>R</td>\n",
       "      <td>158 min</td>\n",
       "      <td>Cult Movies, Dramas, Thrillers</td>\n",
       "      <td>A political cartoonist, a crime reporter and a...</td>\n",
       "    </tr>\n",
       "    <tr>\n",
       "      <th>8803</th>\n",
       "      <td>s8804</td>\n",
       "      <td>TV Show</td>\n",
       "      <td>Zombie Dumb</td>\n",
       "      <td>NaN</td>\n",
       "      <td>NaN</td>\n",
       "      <td>NaN</td>\n",
       "      <td>July 1, 2019</td>\n",
       "      <td>2018</td>\n",
       "      <td>TV-Y7</td>\n",
       "      <td>2 Seasons</td>\n",
       "      <td>Kids' TV, Korean TV Shows, TV Comedies</td>\n",
       "      <td>While living alone in a spooky town, a young g...</td>\n",
       "    </tr>\n",
       "    <tr>\n",
       "      <th>8804</th>\n",
       "      <td>s8805</td>\n",
       "      <td>Movie</td>\n",
       "      <td>Zombieland</td>\n",
       "      <td>Ruben Fleischer</td>\n",
       "      <td>Jesse Eisenberg, Woody Harrelson, Emma Stone, ...</td>\n",
       "      <td>United States</td>\n",
       "      <td>November 1, 2019</td>\n",
       "      <td>2009</td>\n",
       "      <td>R</td>\n",
       "      <td>88 min</td>\n",
       "      <td>Comedies, Horror Movies</td>\n",
       "      <td>Looking to survive in a world taken over by zo...</td>\n",
       "    </tr>\n",
       "    <tr>\n",
       "      <th>8805</th>\n",
       "      <td>s8806</td>\n",
       "      <td>Movie</td>\n",
       "      <td>Zoom</td>\n",
       "      <td>Peter Hewitt</td>\n",
       "      <td>Tim Allen, Courteney Cox, Chevy Chase, Kate Ma...</td>\n",
       "      <td>United States</td>\n",
       "      <td>January 11, 2020</td>\n",
       "      <td>2006</td>\n",
       "      <td>PG</td>\n",
       "      <td>88 min</td>\n",
       "      <td>Children &amp; Family Movies, Comedies</td>\n",
       "      <td>Dragged from civilian life, a former superhero...</td>\n",
       "    </tr>\n",
       "    <tr>\n",
       "      <th>8806</th>\n",
       "      <td>s8807</td>\n",
       "      <td>Movie</td>\n",
       "      <td>Zubaan</td>\n",
       "      <td>Mozez Singh</td>\n",
       "      <td>Vicky Kaushal, Sarah-Jane Dias, Raaghav Chanan...</td>\n",
       "      <td>India</td>\n",
       "      <td>March 2, 2019</td>\n",
       "      <td>2015</td>\n",
       "      <td>TV-14</td>\n",
       "      <td>111 min</td>\n",
       "      <td>Dramas, International Movies, Music &amp; Musicals</td>\n",
       "      <td>A scrappy but poor boy worms his way into a ty...</td>\n",
       "    </tr>\n",
       "  </tbody>\n",
       "</table>\n",
       "</div>"
      ],
      "text/plain": [
       "     show_id     type        title         director  \\\n",
       "8802   s8803    Movie       Zodiac    David Fincher   \n",
       "8803   s8804  TV Show  Zombie Dumb              NaN   \n",
       "8804   s8805    Movie   Zombieland  Ruben Fleischer   \n",
       "8805   s8806    Movie         Zoom     Peter Hewitt   \n",
       "8806   s8807    Movie       Zubaan      Mozez Singh   \n",
       "\n",
       "                                                   cast        country  \\\n",
       "8802  Mark Ruffalo, Jake Gyllenhaal, Robert Downey J...  United States   \n",
       "8803                                                NaN            NaN   \n",
       "8804  Jesse Eisenberg, Woody Harrelson, Emma Stone, ...  United States   \n",
       "8805  Tim Allen, Courteney Cox, Chevy Chase, Kate Ma...  United States   \n",
       "8806  Vicky Kaushal, Sarah-Jane Dias, Raaghav Chanan...          India   \n",
       "\n",
       "             date_added  release_year rating   duration  \\\n",
       "8802  November 20, 2019          2007      R    158 min   \n",
       "8803       July 1, 2019          2018  TV-Y7  2 Seasons   \n",
       "8804   November 1, 2019          2009      R     88 min   \n",
       "8805   January 11, 2020          2006     PG     88 min   \n",
       "8806      March 2, 2019          2015  TV-14    111 min   \n",
       "\n",
       "                                           listed_in  \\\n",
       "8802                  Cult Movies, Dramas, Thrillers   \n",
       "8803          Kids' TV, Korean TV Shows, TV Comedies   \n",
       "8804                         Comedies, Horror Movies   \n",
       "8805              Children & Family Movies, Comedies   \n",
       "8806  Dramas, International Movies, Music & Musicals   \n",
       "\n",
       "                                            description  \n",
       "8802  A political cartoonist, a crime reporter and a...  \n",
       "8803  While living alone in a spooky town, a young g...  \n",
       "8804  Looking to survive in a world taken over by zo...  \n",
       "8805  Dragged from civilian life, a former superhero...  \n",
       "8806  A scrappy but poor boy worms his way into a ty...  "
      ]
     },
     "execution_count": 4,
     "metadata": {},
     "output_type": "execute_result"
    }
   ],
   "source": [
    "data.tail()"
   ]
  },
  {
   "cell_type": "markdown",
   "id": "f7b38e1f",
   "metadata": {},
   "source": [
    "### Basic Checking Data"
   ]
  },
  {
   "cell_type": "code",
   "execution_count": 5,
   "id": "8f7238ee",
   "metadata": {},
   "outputs": [
    {
     "data": {
      "text/plain": [
       "(8807, 12)"
      ]
     },
     "execution_count": 5,
     "metadata": {},
     "output_type": "execute_result"
    }
   ],
   "source": [
    "data.shape"
   ]
  },
  {
   "cell_type": "code",
   "execution_count": 6,
   "id": "af9651de",
   "metadata": {},
   "outputs": [
    {
     "name": "stdout",
     "output_type": "stream",
     "text": [
      "<class 'pandas.core.frame.DataFrame'>\n",
      "RangeIndex: 8807 entries, 0 to 8806\n",
      "Data columns (total 12 columns):\n",
      " #   Column        Non-Null Count  Dtype \n",
      "---  ------        --------------  ----- \n",
      " 0   show_id       8807 non-null   object\n",
      " 1   type          8807 non-null   object\n",
      " 2   title         8807 non-null   object\n",
      " 3   director      6173 non-null   object\n",
      " 4   cast          7982 non-null   object\n",
      " 5   country       7976 non-null   object\n",
      " 6   date_added    8797 non-null   object\n",
      " 7   release_year  8807 non-null   int64 \n",
      " 8   rating        8803 non-null   object\n",
      " 9   duration      8804 non-null   object\n",
      " 10  listed_in     8807 non-null   object\n",
      " 11  description   8807 non-null   object\n",
      "dtypes: int64(1), object(11)\n",
      "memory usage: 825.8+ KB\n"
     ]
    }
   ],
   "source": [
    "data.info()"
   ]
  },
  {
   "cell_type": "code",
   "execution_count": 7,
   "id": "5ed86b8f",
   "metadata": {},
   "outputs": [
    {
     "data": {
      "text/plain": [
       "show_id            0\n",
       "type               0\n",
       "title              0\n",
       "director        2634\n",
       "cast             825\n",
       "country          831\n",
       "date_added        10\n",
       "release_year       0\n",
       "rating             4\n",
       "duration           3\n",
       "listed_in          0\n",
       "description        0\n",
       "dtype: int64"
      ]
     },
     "execution_count": 7,
     "metadata": {},
     "output_type": "execute_result"
    }
   ],
   "source": [
    "data.isna().sum()"
   ]
  },
  {
   "cell_type": "code",
   "execution_count": 8,
   "id": "5c06c15c",
   "metadata": {},
   "outputs": [
    {
     "data": {
      "text/html": [
       "<div>\n",
       "<style scoped>\n",
       "    .dataframe tbody tr th:only-of-type {\n",
       "        vertical-align: middle;\n",
       "    }\n",
       "\n",
       "    .dataframe tbody tr th {\n",
       "        vertical-align: top;\n",
       "    }\n",
       "\n",
       "    .dataframe thead th {\n",
       "        text-align: right;\n",
       "    }\n",
       "</style>\n",
       "<table border=\"1\" class=\"dataframe\">\n",
       "  <thead>\n",
       "    <tr style=\"text-align: right;\">\n",
       "      <th></th>\n",
       "      <th>release_year</th>\n",
       "    </tr>\n",
       "  </thead>\n",
       "  <tbody>\n",
       "    <tr>\n",
       "      <th>count</th>\n",
       "      <td>8807.000000</td>\n",
       "    </tr>\n",
       "    <tr>\n",
       "      <th>mean</th>\n",
       "      <td>2014.180198</td>\n",
       "    </tr>\n",
       "    <tr>\n",
       "      <th>std</th>\n",
       "      <td>8.819312</td>\n",
       "    </tr>\n",
       "    <tr>\n",
       "      <th>min</th>\n",
       "      <td>1925.000000</td>\n",
       "    </tr>\n",
       "    <tr>\n",
       "      <th>25%</th>\n",
       "      <td>2013.000000</td>\n",
       "    </tr>\n",
       "    <tr>\n",
       "      <th>50%</th>\n",
       "      <td>2017.000000</td>\n",
       "    </tr>\n",
       "    <tr>\n",
       "      <th>75%</th>\n",
       "      <td>2019.000000</td>\n",
       "    </tr>\n",
       "    <tr>\n",
       "      <th>max</th>\n",
       "      <td>2021.000000</td>\n",
       "    </tr>\n",
       "  </tbody>\n",
       "</table>\n",
       "</div>"
      ],
      "text/plain": [
       "       release_year\n",
       "count   8807.000000\n",
       "mean    2014.180198\n",
       "std        8.819312\n",
       "min     1925.000000\n",
       "25%     2013.000000\n",
       "50%     2017.000000\n",
       "75%     2019.000000\n",
       "max     2021.000000"
      ]
     },
     "execution_count": 8,
     "metadata": {},
     "output_type": "execute_result"
    }
   ],
   "source": [
    "data.describe()"
   ]
  },
  {
   "cell_type": "code",
   "execution_count": 9,
   "id": "d30d04dd",
   "metadata": {},
   "outputs": [
    {
     "data": {
      "text/plain": [
       "False"
      ]
     },
     "execution_count": 9,
     "metadata": {},
     "output_type": "execute_result"
    }
   ],
   "source": [
    "data.duplicated().any()"
   ]
  },
  {
   "cell_type": "markdown",
   "id": "3b880684",
   "metadata": {},
   "source": [
    "### Above cells' conclusion\n",
    "\n",
    "- Columns need some modifications\n",
    "- Dataset has missing values\n",
    "- Dataset has no complete duplicates\n",
    "- We need to remove some columns not use "
   ]
  },
  {
   "cell_type": "markdown",
   "id": "967ff3b1",
   "metadata": {},
   "source": [
    "## Data Cleaning"
   ]
  },
  {
   "cell_type": "markdown",
   "id": "ae4d9b77",
   "metadata": {},
   "source": [
    "### Discovering `type` column"
   ]
  },
  {
   "cell_type": "code",
   "execution_count": 10,
   "id": "184241c4",
   "metadata": {},
   "outputs": [
    {
     "data": {
      "text/plain": [
       "array(['Movie', 'TV Show'], dtype=object)"
      ]
     },
     "execution_count": 10,
     "metadata": {},
     "output_type": "execute_result"
    }
   ],
   "source": [
    "data[\"type\"].unique()"
   ]
  },
  {
   "cell_type": "code",
   "execution_count": 11,
   "id": "8598695d",
   "metadata": {},
   "outputs": [
    {
     "data": {
      "text/plain": [
       "type\n",
       "Movie      6131\n",
       "TV Show    2676\n",
       "Name: count, dtype: int64"
      ]
     },
     "execution_count": 11,
     "metadata": {},
     "output_type": "execute_result"
    }
   ],
   "source": [
    "data[\"type\"].value_counts()"
   ]
  },
  {
   "cell_type": "code",
   "execution_count": 12,
   "id": "0adb677a",
   "metadata": {},
   "outputs": [
    {
     "data": {
      "image/png": "[encoded data removed]",
      "text/plain": [
       "<Figure size 640x480 with 1 Axes>"
      ]
     },
     "metadata": {},
     "output_type": "display_data"
    }
   ],
   "source": [
    "data[\"type\"].hist()\n",
    "plt.show()"
   ]
  },
  {
   "cell_type": "markdown",
   "id": "f161f50f",
   "metadata": {},
   "source": [
    "### From the above\n",
    "\n",
    " Netfilx has two type `Movie`, `TV Show`\n",
    " \n",
    " - Most type is `Movie`\n",
    " - The ratio of movies to TV shows is approximately 69.6% to 30.4%\n",
    " "
   ]
  },
  {
   "cell_type": "markdown",
   "id": "92d8db21",
   "metadata": {},
   "source": [
    "### Discovering `director` column"
   ]
  },
  {
   "cell_type": "code",
   "execution_count": 13,
   "id": "da317a8a",
   "metadata": {},
   "outputs": [
    {
     "data": {
      "text/plain": [
       "2634"
      ]
     },
     "execution_count": 13,
     "metadata": {},
     "output_type": "execute_result"
    }
   ],
   "source": [
    "# checking number of nan value\n",
    "\n",
    "data[\"director\"].isna().sum()"
   ]
  },
  {
   "cell_type": "code",
   "execution_count": 14,
   "id": "db6faf6b",
   "metadata": {},
   "outputs": [],
   "source": [
    "# fixed nan value \n",
    "\n",
    "data[\"director\"].fillna(\"unknown\", inplace = True)"
   ]
  },
  {
   "cell_type": "markdown",
   "id": "f6c3687c",
   "metadata": {},
   "source": [
    "### From the above\n",
    "\n",
    "- column has nan value\n",
    "- We replace nan value with `unknown` "
   ]
  },
  {
   "cell_type": "markdown",
   "id": "12c5423e",
   "metadata": {},
   "source": [
    "### Discovering `cast` column"
   ]
  },
  {
   "cell_type": "code",
   "execution_count": 15,
   "id": "7636bea9",
   "metadata": {},
   "outputs": [
    {
     "data": {
      "text/plain": [
       "825"
      ]
     },
     "execution_count": 15,
     "metadata": {},
     "output_type": "execute_result"
    }
   ],
   "source": [
    "# output namber of nan value \n",
    "\n",
    "data[\"cast\"].isna().sum()"
   ]
  },
  {
   "cell_type": "code",
   "execution_count": 16,
   "id": "c8a9d2cb",
   "metadata": {},
   "outputs": [],
   "source": [
    "# fixed nan value\n",
    "\n",
    "data[\"cast\"].fillna(\"unknown\", inplace = True)"
   ]
  },
  {
   "cell_type": "markdown",
   "id": "b67da179",
   "metadata": {},
   "source": [
    "### From the above\n",
    "\n",
    "- column has nan value\n",
    "- We replace nan value with `unknown` "
   ]
  },
  {
   "cell_type": "markdown",
   "id": "6b39d2c0",
   "metadata": {},
   "source": [
    "### Discovering `country` column"
   ]
  },
  {
   "cell_type": "code",
   "execution_count": 17,
   "id": "0f144211",
   "metadata": {},
   "outputs": [
    {
     "data": {
      "text/plain": [
       "831"
      ]
     },
     "execution_count": 17,
     "metadata": {},
     "output_type": "execute_result"
    }
   ],
   "source": [
    "data[\"country\"].isna().sum()"
   ]
  },
  {
   "cell_type": "code",
   "execution_count": 18,
   "id": "db4f4790",
   "metadata": {},
   "outputs": [],
   "source": [
    "# fill nan value with unknown \n",
    "\n",
    "data[\"country\"].fillna(\"unknown\", inplace = True)"
   ]
  },
  {
   "cell_type": "markdown",
   "id": "c7182b4a",
   "metadata": {},
   "source": [
    "### From the above\n",
    "\n",
    "- column has nan value\n",
    "- We replace nan value with `unknown` \n",
    "\n",
    "`United States` is the most country to watch on Netflix\n",
    "\n"
   ]
  },
  {
   "cell_type": "markdown",
   "id": "3f37951c",
   "metadata": {},
   "source": [
    "### Discovering `date_added` column\n"
   ]
  },
  {
   "cell_type": "code",
   "execution_count": 19,
   "id": "7d644844",
   "metadata": {},
   "outputs": [],
   "source": [
    "# convert to date-time\n",
    "\n",
    "data[\"date_added\"] = pd.to_datetime(data[\"date_added\"], format='mixed')"
   ]
  },
  {
   "cell_type": "code",
   "execution_count": 20,
   "id": "89d83c53",
   "metadata": {},
   "outputs": [
    {
     "data": {
      "image/png": "[encoded data removed]",
      "text/plain": [
       "<Figure size 640x480 with 1 Axes>"
      ]
     },
     "metadata": {},
     "output_type": "display_data"
    }
   ],
   "source": [
    "data[\"date_added\"].hist()\n",
    "plt.show()"
   ]
  },
  {
   "cell_type": "markdown",
   "id": "dd8cbf7f",
   "metadata": {},
   "source": [
    "### From the above\n",
    "\n",
    "- netfilx added first show in `2008`\n",
    "- most show add to netflix between `2019-2021`"
   ]
  },
  {
   "cell_type": "markdown",
   "id": "4b3865f9",
   "metadata": {},
   "source": [
    "### Discovering `release_year` column\n"
   ]
  },
  {
   "cell_type": "code",
   "execution_count": 21,
   "id": "31e8d52c",
   "metadata": {},
   "outputs": [
    {
     "data": {
      "text/plain": [
       "array([2020, 2021, 1993, 2018, 1996, 1998, 1997, 2010, 2013, 2017, 1975,\n",
       "       1978, 1983, 1987, 2012, 2001, 2014, 2002, 2003, 2004, 2011, 2008,\n",
       "       2009, 2007, 2005, 2006, 1994, 2015, 2019, 2016, 1982, 1989, 1990,\n",
       "       1991, 1999, 1986, 1992, 1984, 1980, 1961, 2000, 1995, 1985, 1976,\n",
       "       1959, 1988, 1981, 1972, 1964, 1945, 1954, 1979, 1958, 1956, 1963,\n",
       "       1970, 1973, 1925, 1974, 1960, 1966, 1971, 1962, 1969, 1977, 1967,\n",
       "       1968, 1965, 1946, 1942, 1955, 1944, 1947, 1943], dtype=int64)"
      ]
     },
     "execution_count": 21,
     "metadata": {},
     "output_type": "execute_result"
    }
   ],
   "source": [
    "# checking unique value\n",
    "\n",
    "data[\"release_year\"].unique()"
   ]
  },
  {
   "cell_type": "code",
   "execution_count": 22,
   "id": "eefafabd",
   "metadata": {},
   "outputs": [
    {
     "data": {
      "text/plain": [
       "release_year\n",
       "2018    1147\n",
       "2017    1032\n",
       "2019    1030\n",
       "2020     953\n",
       "2016     902\n",
       "        ... \n",
       "1959       1\n",
       "1925       1\n",
       "1961       1\n",
       "1947       1\n",
       "1966       1\n",
       "Name: count, Length: 74, dtype: int64"
      ]
     },
     "execution_count": 22,
     "metadata": {},
     "output_type": "execute_result"
    }
   ],
   "source": [
    "# checking value counts of each unique\n",
    "\n",
    "data[\"release_year\"].value_counts()"
   ]
  },
  {
   "cell_type": "code",
   "execution_count": 23,
   "id": "a96cd426",
   "metadata": {},
   "outputs": [
    {
     "data": {
      "image/png": "[encoded data removed]",
      "text/plain": [
       "<Figure size 1000x600 with 1 Axes>"
      ]
     },
     "metadata": {},
     "output_type": "display_data"
    }
   ],
   "source": [
    "# Shows released over time\n",
    "\n",
    "plt.figure(figsize=(10, 6))\n",
    "sns.countplot(x='release_year', data=data, palette='muted')\n",
    "plt.title('Number of Shows Released Over Time')\n",
    "plt.xlabel('Release Year')\n",
    "plt.ylabel('Number of Shows')\n",
    "plt.xticks(rotation=45)\n",
    "plt.show()"
   ]
  },
  {
   "cell_type": "markdown",
   "id": "9035e455",
   "metadata": {},
   "source": [
    "### from the above\n",
    "\n",
    "- first show release in `1925` and type is `TV Show`\n",
    "\n",
    "\n",
    "- most release year of the show between `2015-2020`"
   ]
  },
  {
   "cell_type": "markdown",
   "id": "44eedc13",
   "metadata": {},
   "source": [
    "###  Discovering `rating` column\n"
   ]
  },
  {
   "cell_type": "code",
   "execution_count": 24,
   "id": "ebcaeacc",
   "metadata": {},
   "outputs": [
    {
     "data": {
      "text/plain": [
       "array(['PG-13', 'TV-MA', 'PG', 'TV-14', 'TV-PG', 'TV-Y', 'TV-Y7', 'R',\n",
       "       'TV-G', 'G', 'NC-17', '74 min', '84 min', '66 min', 'NR', nan,\n",
       "       'TV-Y7-FV', 'UR'], dtype=object)"
      ]
     },
     "execution_count": 24,
     "metadata": {},
     "output_type": "execute_result"
    }
   ],
   "source": [
    "data[\"rating\"].unique()"
   ]
  },
  {
   "cell_type": "code",
   "execution_count": 25,
   "id": "7b264eba",
   "metadata": {},
   "outputs": [
    {
     "data": {
      "text/plain": [
       "4"
      ]
     },
     "execution_count": 25,
     "metadata": {},
     "output_type": "execute_result"
    }
   ],
   "source": [
    "# output number of nan value\n",
    "\n",
    "data[\"rating\"].isna().sum()"
   ]
  },
  {
   "cell_type": "code",
   "execution_count": 26,
   "id": "6a0028da",
   "metadata": {},
   "outputs": [],
   "source": [
    "# fill nan value \n",
    "\n",
    "data[\"rating\"].fillna(\"unknown\", inplace = True)"
   ]
  },
  {
   "cell_type": "code",
   "execution_count": 27,
   "id": "1f304443",
   "metadata": {},
   "outputs": [
    {
     "data": {
      "text/plain": [
       "rating\n",
       "TV-MA    3207\n",
       "TV-14    2160\n",
       "TV-PG     863\n",
       "R         799\n",
       "PG-13     490\n",
       "Name: count, dtype: int64"
      ]
     },
     "execution_count": 27,
     "metadata": {},
     "output_type": "execute_result"
    }
   ],
   "source": [
    "data[\"rating\"].value_counts().head()"
   ]
  },
  {
   "cell_type": "markdown",
   "id": "6fbed685",
   "metadata": {},
   "source": [
    "### From the above\n",
    "\n",
    "- most shows on netfilx have `TV-MA` rating\n"
   ]
  },
  {
   "cell_type": "markdown",
   "id": "b7bf8c4b",
   "metadata": {},
   "source": [
    "###  Discovering `duration` column"
   ]
  },
  {
   "cell_type": "code",
   "execution_count": 28,
   "id": "ad5f15be",
   "metadata": {},
   "outputs": [
    {
     "data": {
      "text/plain": [
       "3"
      ]
     },
     "execution_count": 28,
     "metadata": {},
     "output_type": "execute_result"
    }
   ],
   "source": [
    "# output number of nan value\n",
    "\n",
    "data[\"duration\"].isna().sum()"
   ]
  },
  {
   "cell_type": "code",
   "execution_count": 29,
   "id": "5e7fb6a3",
   "metadata": {},
   "outputs": [],
   "source": [
    "# fill nan value\n",
    "\n",
    "data[\"duration\"].fillna(\"unknown\", inplace = True)"
   ]
  },
  {
   "cell_type": "code",
   "execution_count": 30,
   "id": "b5c35e4f",
   "metadata": {},
   "outputs": [
    {
     "data": {
      "text/plain": [
       "duration\n",
       "1 Season     1793\n",
       "2 Seasons     425\n",
       "3 Seasons     199\n",
       "90 min        152\n",
       "94 min        146\n",
       "Name: count, dtype: int64"
      ]
     },
     "execution_count": 30,
     "metadata": {},
     "output_type": "execute_result"
    }
   ],
   "source": [
    "data[\"duration\"].value_counts().head()"
   ]
  },
  {
   "cell_type": "markdown",
   "id": "d706a01c",
   "metadata": {},
   "source": [
    "### From the above\n",
    "\n",
    "- most shows on netfilx have `1 Season` "
   ]
  },
  {
   "cell_type": "markdown",
   "id": "a9bde39a",
   "metadata": {},
   "source": [
    "### Discovering `listed_in` column\n"
   ]
  },
  {
   "cell_type": "code",
   "execution_count": 31,
   "id": "2e4e5267",
   "metadata": {},
   "outputs": [
    {
     "data": {
      "text/plain": [
       "'Dramas, International Movies'"
      ]
     },
     "execution_count": 31,
     "metadata": {},
     "output_type": "execute_result"
    }
   ],
   "source": [
    "# output mode \n",
    "\n",
    "data[\"listed_in\"].mode()[0]"
   ]
  },
  {
   "cell_type": "markdown",
   "id": "4fd61849",
   "metadata": {},
   "source": [
    "# Final Result Of Analysis"
   ]
  },
  {
   "cell_type": "markdown",
   "id": "40b3babc",
   "metadata": {},
   "source": [
    "### 1- Type of Shows\n",
    "\n",
    "- Most type is `Movie`\n",
    "- The ratio of movies is 69,6%\n",
    "\n",
    "### 2- Rating of Shows and movies\n",
    "\n",
    "- Most rating is `TV-MA`\n",
    "- The ratio of TV-MA is 36.4%\n",
    "\n",
    "#### Relation between Type and Rating\n",
    "\n",
    "- `Movie` have higher rated than TV Show\n",
    "\n",
    "### 3- Relation between Country and Type\n",
    "\n",
    "- The most country show Movies, TV Show is `United States` \n",
    "\n",
    "### 4-  Categories of shows\n",
    "\n",
    "- Most Categories is `Dramas, International Movies`\n",
    "\n",
    "### 5- Relation between date added and Type\n",
    "\n",
    "- netfilx added first show in `2008`\n",
    "- most show add to netflix between `2019-2021`\n",
    "\n",
    "### Most release year of the show between `2015-2020`\n",
    "\n"
   ]
  },
  {
   "cell_type": "code",
   "execution_count": null,
   "id": "3d41e00f",
   "metadata": {},
   "outputs": [],
   "source": []
  }
 ],
 "metadata": {
  "kernelspec": {
   "display_name": "Python 3 (ipykernel)",
   "language": "python",
   "name": "python3"
  },
  "language_info": {
   "codemirror_mode": {
    "name": "ipython",
    "version": 3
   },
   "file_extension": ".py",
   "mimetype": "text/x-python",
   "name": "python",
   "nbconvert_exporter": "python",
   "pygments_lexer": "ipython3",
   "version": "3.11.5"
  }
 },
 "nbformat": 4,
 "nbformat_minor": 5
}
